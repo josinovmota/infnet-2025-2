{
 "cells": [
  {
   "cell_type": "markdown",
   "id": "568423cf",
   "metadata": {},
   "source": [
    "# Q1:"
   ]
  },
  {
   "cell_type": "code",
   "execution_count": null,
   "id": "5cf05bb8",
   "metadata": {},
   "outputs": [],
   "source": [
    "\"\"\"\n",
    "Receita de pão de queijo!\n",
    "\n",
    "Vague problem statement: Faremos um ótimo café da manhã para servir aos convidados\n",
    "\n",
    "More specific problem statement: Faremos um Pãozinho típico no Brasil que parece uma bolinha de queijo. Para aqueles que tem alergia à Leite, Queijos, não é indicado.\n",
    "A nossa receita rende 40 porções e demorará 1h para ser feita-\n",
    "\"\"\" "
   ]
  },
  {
   "cell_type": "markdown",
   "id": "a1fc2ad0",
   "metadata": {},
   "source": [
    "# Q2:"
   ]
  },
  {
   "cell_type": "code",
   "execution_count": null,
   "id": "8b00eb97",
   "metadata": {},
   "outputs": [],
   "source": [
    "\"\"\"\n",
    "Lavar a louça---Reservar as louças sujas---Ensaboar todas elas---Passar água em todas elas---Deixá-las no lugar próprio descansando               Louça limpa\n",
    "                                                                                                                                    \\            /\n",
    "                                                                                     --------------------------------------------------- Afazeres\n",
    "                                                                                    /                                                            \\\n",
    "Colocar o lixo pra fora---Empacotar o lixo em sacos---Levar os sacos para a lixeira                                                               Lixo colocado pra fora\n",
    "\"\"\""
   ]
  },
  {
   "cell_type": "markdown",
   "id": "612e936e",
   "metadata": {},
   "source": [
    "# Q3:"
   ]
  },
  {
   "cell_type": "code",
   "execution_count": null,
   "id": "fed252bc",
   "metadata": {},
   "outputs": [],
   "source": [
    "\"\"\"\n",
    "# Hipotenusa ao quadrado é igual a soma dos catetos ao quadrado\n",
    "\n",
    "a_ao_quadrado = Calcular a multiplicação de a vezes a\n",
    "b_ao_quadrado = Calcular a multiplicação de b vezes b\n",
    "\n",
    "soma_dos_catetos_ao_quadrado = Calcular soma de a_ao_quadrado e b_ao_quadrado\n",
    "\n",
    "hipotenusa = Raíz quadrada de soma_dos_catetos_ao_quadrado\n",
    "\n",
    "\"\"\" "
   ]
  },
  {
   "cell_type": "markdown",
   "id": "ea0d5375",
   "metadata": {},
   "source": [
    "# Q4:"
   ]
  },
  {
   "cell_type": "code",
   "execution_count": null,
   "id": "8b8e81fa",
   "metadata": {},
   "outputs": [],
   "source": [
    "# Tempo, em horas, que as mangueiras `verde` e `azul` demoram para encher a piscina\n",
    "time_green = 1.5\n",
    "time_blue = 1.2\n",
    "\n",
    "# Transforma o tempo, em horas, que as mangueiras demoram para encher a piscina em minutos\n",
    "minutes_green = 60 * time_green\n",
    "minutes_blue = 60 * time_blue\n",
    "\n",
    "# Calcula quanto a taxa de quanto cada mangueira enche uma piscina por minuto\n",
    "rate_hose_green = 1 / minutes_green\n",
    "rate_hose_blue = 1 / minutes_blue\n",
    "\n",
    "# Combina as taxas de ambas as mangueiras\n",
    "rate_host_combined = rate_hose_green + rate_hose_blue\n",
    "\n",
    "# Calcula em quanto tempo as mangueiras, com suas taxas de enchimento combinadas, demoram para encher a piscina inteira\n",
    "time = 1 / rate_host_combined"
   ]
  }
 ],
 "metadata": {
  "kernelspec": {
   "display_name": "Python 3",
   "language": "python",
   "name": "python3"
  },
  "language_info": {
   "codemirror_mode": {
    "name": "ipython",
    "version": 3
   },
   "file_extension": ".py",
   "mimetype": "text/x-python",
   "name": "python",
   "nbconvert_exporter": "python",
   "pygments_lexer": "ipython3",
   "version": "3.10.12"
  }
 },
 "nbformat": 4,
 "nbformat_minor": 5
}
