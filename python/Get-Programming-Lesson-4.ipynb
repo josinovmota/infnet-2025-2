{
 "cells": [
  {
   "cell_type": "markdown",
   "id": "71233b05",
   "metadata": {},
   "source": [
    "# Q4.1:"
   ]
  },
  {
   "cell_type": "code",
   "execution_count": 1,
   "id": "630474bf",
   "metadata": {},
   "outputs": [
    {
     "name": "stdout",
     "output_type": "stream",
     "text": [
      "0\n"
     ]
    }
   ],
   "source": [
    "a = 2\n",
    "b = 2\n",
    "\n",
    "x = b - a\n",
    "\n",
    "print(x)"
   ]
  },
  {
   "cell_type": "markdown",
   "id": "615b40e6",
   "metadata": {},
   "source": [
    "# Q4.2:"
   ]
  },
  {
   "cell_type": "code",
   "execution_count": 2,
   "id": "2a940a93",
   "metadata": {},
   "outputs": [
    {
     "name": "stdout",
     "output_type": "stream",
     "text": [
      "0\n"
     ]
    }
   ],
   "source": [
    "a = 2\n",
    "b = 2\n",
    "\n",
    "x = b - a\n",
    "print(x)"
   ]
  }
 ],
 "metadata": {
  "kernelspec": {
   "display_name": "Python 3",
   "language": "python",
   "name": "python3"
  },
  "language_info": {
   "codemirror_mode": {
    "name": "ipython",
    "version": 3
   },
   "file_extension": ".py",
   "mimetype": "text/x-python",
   "name": "python",
   "nbconvert_exporter": "python",
   "pygments_lexer": "ipython3",
   "version": "3.10.12"
  }
 },
 "nbformat": 4,
 "nbformat_minor": 5
}
